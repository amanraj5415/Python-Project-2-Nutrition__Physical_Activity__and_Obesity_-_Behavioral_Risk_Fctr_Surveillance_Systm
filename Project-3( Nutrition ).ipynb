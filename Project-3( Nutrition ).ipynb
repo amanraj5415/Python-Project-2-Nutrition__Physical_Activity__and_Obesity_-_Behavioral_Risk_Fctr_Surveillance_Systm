{
 "cells": [
  {
   "cell_type": "markdown",
   "id": "c9741791",
   "metadata": {},
   "source": [
    "# Data Cleaning"
   ]
  },
  {
   "cell_type": "code",
   "execution_count": 1,
   "id": "265c1d3d",
   "metadata": {},
   "outputs": [],
   "source": [
    "import pandas as pd\n",
    "import numpy as np\n",
    "import matplotlib.pyplot as plt\n",
    "import seaborn as sns"
   ]
  },
  {
   "cell_type": "code",
   "execution_count": 2,
   "id": "8972aec2",
   "metadata": {},
   "outputs": [
    {
     "data": {
      "text/html": [
       "<div>\n",
       "<style scoped>\n",
       "    .dataframe tbody tr th:only-of-type {\n",
       "        vertical-align: middle;\n",
       "    }\n",
       "\n",
       "    .dataframe tbody tr th {\n",
       "        vertical-align: top;\n",
       "    }\n",
       "\n",
       "    .dataframe thead th {\n",
       "        text-align: right;\n",
       "    }\n",
       "</style>\n",
       "<table border=\"1\" class=\"dataframe\">\n",
       "  <thead>\n",
       "    <tr style=\"text-align: right;\">\n",
       "      <th></th>\n",
       "      <th>YearStart</th>\n",
       "      <th>YearEnd</th>\n",
       "      <th>LocationAbbr</th>\n",
       "      <th>LocationDesc</th>\n",
       "      <th>Datasource</th>\n",
       "      <th>Class</th>\n",
       "      <th>Topic</th>\n",
       "      <th>Question</th>\n",
       "      <th>Data_Value_Unit</th>\n",
       "      <th>Data_Value_Type</th>\n",
       "      <th>...</th>\n",
       "      <th>GeoLocation</th>\n",
       "      <th>ClassID</th>\n",
       "      <th>TopicID</th>\n",
       "      <th>QuestionID</th>\n",
       "      <th>DataValueTypeID</th>\n",
       "      <th>LocationID</th>\n",
       "      <th>StratificationCategory1</th>\n",
       "      <th>Stratification1</th>\n",
       "      <th>StratificationCategoryId1</th>\n",
       "      <th>StratificationID1</th>\n",
       "    </tr>\n",
       "  </thead>\n",
       "  <tbody>\n",
       "    <tr>\n",
       "      <th>0</th>\n",
       "      <td>2020</td>\n",
       "      <td>2020</td>\n",
       "      <td>US</td>\n",
       "      <td>National</td>\n",
       "      <td>Behavioral Risk Factor Surveillance System</td>\n",
       "      <td>Physical Activity</td>\n",
       "      <td>Physical Activity - Behavior</td>\n",
       "      <td>Percent of adults who engage in no leisure-tim...</td>\n",
       "      <td>NaN</td>\n",
       "      <td>Value</td>\n",
       "      <td>...</td>\n",
       "      <td>NaN</td>\n",
       "      <td>PA</td>\n",
       "      <td>PA1</td>\n",
       "      <td>Q047</td>\n",
       "      <td>VALUE</td>\n",
       "      <td>59</td>\n",
       "      <td>Race/Ethnicity</td>\n",
       "      <td>Hispanic</td>\n",
       "      <td>RACE</td>\n",
       "      <td>RACEHIS</td>\n",
       "    </tr>\n",
       "    <tr>\n",
       "      <th>1</th>\n",
       "      <td>2014</td>\n",
       "      <td>2014</td>\n",
       "      <td>GU</td>\n",
       "      <td>Guam</td>\n",
       "      <td>Behavioral Risk Factor Surveillance System</td>\n",
       "      <td>Obesity / Weight Status</td>\n",
       "      <td>Obesity / Weight Status</td>\n",
       "      <td>Percent of adults aged 18 years and older who ...</td>\n",
       "      <td>NaN</td>\n",
       "      <td>Value</td>\n",
       "      <td>...</td>\n",
       "      <td>(13.444304, 144.793731)</td>\n",
       "      <td>OWS</td>\n",
       "      <td>OWS1</td>\n",
       "      <td>Q036</td>\n",
       "      <td>VALUE</td>\n",
       "      <td>66</td>\n",
       "      <td>Education</td>\n",
       "      <td>High school graduate</td>\n",
       "      <td>EDU</td>\n",
       "      <td>EDUHSGRAD</td>\n",
       "    </tr>\n",
       "    <tr>\n",
       "      <th>2</th>\n",
       "      <td>2013</td>\n",
       "      <td>2013</td>\n",
       "      <td>US</td>\n",
       "      <td>National</td>\n",
       "      <td>Behavioral Risk Factor Surveillance System</td>\n",
       "      <td>Obesity / Weight Status</td>\n",
       "      <td>Obesity / Weight Status</td>\n",
       "      <td>Percent of adults aged 18 years and older who ...</td>\n",
       "      <td>NaN</td>\n",
       "      <td>Value</td>\n",
       "      <td>...</td>\n",
       "      <td>NaN</td>\n",
       "      <td>OWS</td>\n",
       "      <td>OWS1</td>\n",
       "      <td>Q036</td>\n",
       "      <td>VALUE</td>\n",
       "      <td>59</td>\n",
       "      <td>Income</td>\n",
       "      <td>$50,000 - $74,999</td>\n",
       "      <td>INC</td>\n",
       "      <td>INC5075</td>\n",
       "    </tr>\n",
       "    <tr>\n",
       "      <th>3</th>\n",
       "      <td>2013</td>\n",
       "      <td>2013</td>\n",
       "      <td>US</td>\n",
       "      <td>National</td>\n",
       "      <td>Behavioral Risk Factor Surveillance System</td>\n",
       "      <td>Obesity / Weight Status</td>\n",
       "      <td>Obesity / Weight Status</td>\n",
       "      <td>Percent of adults aged 18 years and older who ...</td>\n",
       "      <td>NaN</td>\n",
       "      <td>Value</td>\n",
       "      <td>...</td>\n",
       "      <td>NaN</td>\n",
       "      <td>OWS</td>\n",
       "      <td>OWS1</td>\n",
       "      <td>Q037</td>\n",
       "      <td>VALUE</td>\n",
       "      <td>59</td>\n",
       "      <td>Income</td>\n",
       "      <td>Data not reported</td>\n",
       "      <td>INC</td>\n",
       "      <td>INCNR</td>\n",
       "    </tr>\n",
       "    <tr>\n",
       "      <th>4</th>\n",
       "      <td>2015</td>\n",
       "      <td>2015</td>\n",
       "      <td>US</td>\n",
       "      <td>National</td>\n",
       "      <td>Behavioral Risk Factor Surveillance System</td>\n",
       "      <td>Physical Activity</td>\n",
       "      <td>Physical Activity - Behavior</td>\n",
       "      <td>Percent of adults who achieve at least 300 min...</td>\n",
       "      <td>NaN</td>\n",
       "      <td>Value</td>\n",
       "      <td>...</td>\n",
       "      <td>NaN</td>\n",
       "      <td>PA</td>\n",
       "      <td>PA1</td>\n",
       "      <td>Q045</td>\n",
       "      <td>VALUE</td>\n",
       "      <td>59</td>\n",
       "      <td>Income</td>\n",
       "      <td>Less than $15,000</td>\n",
       "      <td>INC</td>\n",
       "      <td>INCLESS15</td>\n",
       "    </tr>\n",
       "    <tr>\n",
       "      <th>...</th>\n",
       "      <td>...</td>\n",
       "      <td>...</td>\n",
       "      <td>...</td>\n",
       "      <td>...</td>\n",
       "      <td>...</td>\n",
       "      <td>...</td>\n",
       "      <td>...</td>\n",
       "      <td>...</td>\n",
       "      <td>...</td>\n",
       "      <td>...</td>\n",
       "      <td>...</td>\n",
       "      <td>...</td>\n",
       "      <td>...</td>\n",
       "      <td>...</td>\n",
       "      <td>...</td>\n",
       "      <td>...</td>\n",
       "      <td>...</td>\n",
       "      <td>...</td>\n",
       "      <td>...</td>\n",
       "      <td>...</td>\n",
       "      <td>...</td>\n",
       "    </tr>\n",
       "    <tr>\n",
       "      <th>88624</th>\n",
       "      <td>2021</td>\n",
       "      <td>2021</td>\n",
       "      <td>ND</td>\n",
       "      <td>North Dakota</td>\n",
       "      <td>Behavioral Risk Factor Surveillance System</td>\n",
       "      <td>Fruits and Vegetables</td>\n",
       "      <td>Fruits and Vegetables - Behavior</td>\n",
       "      <td>Percent of adults who report consuming vegetab...</td>\n",
       "      <td>NaN</td>\n",
       "      <td>Value</td>\n",
       "      <td>...</td>\n",
       "      <td>(47.47531977900047, -100.11842104899966)</td>\n",
       "      <td>FV</td>\n",
       "      <td>FV1</td>\n",
       "      <td>Q019</td>\n",
       "      <td>VALUE</td>\n",
       "      <td>38</td>\n",
       "      <td>Gender</td>\n",
       "      <td>Male</td>\n",
       "      <td>GEN</td>\n",
       "      <td>MALE</td>\n",
       "    </tr>\n",
       "    <tr>\n",
       "      <th>88625</th>\n",
       "      <td>2021</td>\n",
       "      <td>2021</td>\n",
       "      <td>PR</td>\n",
       "      <td>Puerto Rico</td>\n",
       "      <td>Behavioral Risk Factor Surveillance System</td>\n",
       "      <td>Physical Activity</td>\n",
       "      <td>Physical Activity - Behavior</td>\n",
       "      <td>Percent of adults who engage in no leisure-tim...</td>\n",
       "      <td>NaN</td>\n",
       "      <td>Value</td>\n",
       "      <td>...</td>\n",
       "      <td>(18.220833, -66.590149)</td>\n",
       "      <td>PA</td>\n",
       "      <td>PA1</td>\n",
       "      <td>Q047</td>\n",
       "      <td>VALUE</td>\n",
       "      <td>72</td>\n",
       "      <td>Income</td>\n",
       "      <td>$35,000 - $49,999</td>\n",
       "      <td>INC</td>\n",
       "      <td>INC3550</td>\n",
       "    </tr>\n",
       "    <tr>\n",
       "      <th>88626</th>\n",
       "      <td>2021</td>\n",
       "      <td>2021</td>\n",
       "      <td>WI</td>\n",
       "      <td>Wisconsin</td>\n",
       "      <td>Behavioral Risk Factor Surveillance System</td>\n",
       "      <td>Physical Activity</td>\n",
       "      <td>Physical Activity - Behavior</td>\n",
       "      <td>Percent of adults who engage in no leisure-tim...</td>\n",
       "      <td>NaN</td>\n",
       "      <td>Value</td>\n",
       "      <td>...</td>\n",
       "      <td>(44.39319117400049, -89.81637074199966)</td>\n",
       "      <td>PA</td>\n",
       "      <td>PA1</td>\n",
       "      <td>Q047</td>\n",
       "      <td>VALUE</td>\n",
       "      <td>55</td>\n",
       "      <td>Income</td>\n",
       "      <td>$75,000 or greater</td>\n",
       "      <td>INC</td>\n",
       "      <td>INC75PLUS</td>\n",
       "    </tr>\n",
       "    <tr>\n",
       "      <th>88627</th>\n",
       "      <td>2021</td>\n",
       "      <td>2021</td>\n",
       "      <td>UT</td>\n",
       "      <td>Utah</td>\n",
       "      <td>Behavioral Risk Factor Surveillance System</td>\n",
       "      <td>Fruits and Vegetables</td>\n",
       "      <td>Fruits and Vegetables - Behavior</td>\n",
       "      <td>Percent of adults who report consuming fruit l...</td>\n",
       "      <td>NaN</td>\n",
       "      <td>Value</td>\n",
       "      <td>...</td>\n",
       "      <td>(39.360700171000474, -111.58713063499971)</td>\n",
       "      <td>FV</td>\n",
       "      <td>FV1</td>\n",
       "      <td>Q018</td>\n",
       "      <td>VALUE</td>\n",
       "      <td>49</td>\n",
       "      <td>Income</td>\n",
       "      <td>$50,000 - $74,999</td>\n",
       "      <td>INC</td>\n",
       "      <td>INC5075</td>\n",
       "    </tr>\n",
       "    <tr>\n",
       "      <th>88628</th>\n",
       "      <td>2021</td>\n",
       "      <td>2021</td>\n",
       "      <td>US</td>\n",
       "      <td>National</td>\n",
       "      <td>Behavioral Risk Factor Surveillance System</td>\n",
       "      <td>Physical Activity</td>\n",
       "      <td>Physical Activity - Behavior</td>\n",
       "      <td>Percent of adults who engage in no leisure-tim...</td>\n",
       "      <td>NaN</td>\n",
       "      <td>Value</td>\n",
       "      <td>...</td>\n",
       "      <td>NaN</td>\n",
       "      <td>PA</td>\n",
       "      <td>PA1</td>\n",
       "      <td>Q047</td>\n",
       "      <td>VALUE</td>\n",
       "      <td>59</td>\n",
       "      <td>Income</td>\n",
       "      <td>Data not reported</td>\n",
       "      <td>INC</td>\n",
       "      <td>INCNR</td>\n",
       "    </tr>\n",
       "  </tbody>\n",
       "</table>\n",
       "<p>88629 rows × 33 columns</p>\n",
       "</div>"
      ],
      "text/plain": [
       "       YearStart  YearEnd LocationAbbr  LocationDesc  \\\n",
       "0           2020     2020           US      National   \n",
       "1           2014     2014           GU          Guam   \n",
       "2           2013     2013           US      National   \n",
       "3           2013     2013           US      National   \n",
       "4           2015     2015           US      National   \n",
       "...          ...      ...          ...           ...   \n",
       "88624       2021     2021           ND  North Dakota   \n",
       "88625       2021     2021           PR   Puerto Rico   \n",
       "88626       2021     2021           WI     Wisconsin   \n",
       "88627       2021     2021           UT          Utah   \n",
       "88628       2021     2021           US      National   \n",
       "\n",
       "                                       Datasource                    Class  \\\n",
       "0      Behavioral Risk Factor Surveillance System        Physical Activity   \n",
       "1      Behavioral Risk Factor Surveillance System  Obesity / Weight Status   \n",
       "2      Behavioral Risk Factor Surveillance System  Obesity / Weight Status   \n",
       "3      Behavioral Risk Factor Surveillance System  Obesity / Weight Status   \n",
       "4      Behavioral Risk Factor Surveillance System        Physical Activity   \n",
       "...                                           ...                      ...   \n",
       "88624  Behavioral Risk Factor Surveillance System    Fruits and Vegetables   \n",
       "88625  Behavioral Risk Factor Surveillance System        Physical Activity   \n",
       "88626  Behavioral Risk Factor Surveillance System        Physical Activity   \n",
       "88627  Behavioral Risk Factor Surveillance System    Fruits and Vegetables   \n",
       "88628  Behavioral Risk Factor Surveillance System        Physical Activity   \n",
       "\n",
       "                                  Topic  \\\n",
       "0          Physical Activity - Behavior   \n",
       "1               Obesity / Weight Status   \n",
       "2               Obesity / Weight Status   \n",
       "3               Obesity / Weight Status   \n",
       "4          Physical Activity - Behavior   \n",
       "...                                 ...   \n",
       "88624  Fruits and Vegetables - Behavior   \n",
       "88625      Physical Activity - Behavior   \n",
       "88626      Physical Activity - Behavior   \n",
       "88627  Fruits and Vegetables - Behavior   \n",
       "88628      Physical Activity - Behavior   \n",
       "\n",
       "                                                Question  Data_Value_Unit  \\\n",
       "0      Percent of adults who engage in no leisure-tim...              NaN   \n",
       "1      Percent of adults aged 18 years and older who ...              NaN   \n",
       "2      Percent of adults aged 18 years and older who ...              NaN   \n",
       "3      Percent of adults aged 18 years and older who ...              NaN   \n",
       "4      Percent of adults who achieve at least 300 min...              NaN   \n",
       "...                                                  ...              ...   \n",
       "88624  Percent of adults who report consuming vegetab...              NaN   \n",
       "88625  Percent of adults who engage in no leisure-tim...              NaN   \n",
       "88626  Percent of adults who engage in no leisure-tim...              NaN   \n",
       "88627  Percent of adults who report consuming fruit l...              NaN   \n",
       "88628  Percent of adults who engage in no leisure-tim...              NaN   \n",
       "\n",
       "      Data_Value_Type  ...                                GeoLocation  \\\n",
       "0               Value  ...                                        NaN   \n",
       "1               Value  ...                    (13.444304, 144.793731)   \n",
       "2               Value  ...                                        NaN   \n",
       "3               Value  ...                                        NaN   \n",
       "4               Value  ...                                        NaN   \n",
       "...               ...  ...                                        ...   \n",
       "88624           Value  ...   (47.47531977900047, -100.11842104899966)   \n",
       "88625           Value  ...                    (18.220833, -66.590149)   \n",
       "88626           Value  ...    (44.39319117400049, -89.81637074199966)   \n",
       "88627           Value  ...  (39.360700171000474, -111.58713063499971)   \n",
       "88628           Value  ...                                        NaN   \n",
       "\n",
       "       ClassID TopicID QuestionID  DataValueTypeID  LocationID  \\\n",
       "0           PA     PA1       Q047            VALUE          59   \n",
       "1          OWS    OWS1       Q036            VALUE          66   \n",
       "2          OWS    OWS1       Q036            VALUE          59   \n",
       "3          OWS    OWS1       Q037            VALUE          59   \n",
       "4           PA     PA1       Q045            VALUE          59   \n",
       "...        ...     ...        ...              ...         ...   \n",
       "88624       FV     FV1       Q019            VALUE          38   \n",
       "88625       PA     PA1       Q047            VALUE          72   \n",
       "88626       PA     PA1       Q047            VALUE          55   \n",
       "88627       FV     FV1       Q018            VALUE          49   \n",
       "88628       PA     PA1       Q047            VALUE          59   \n",
       "\n",
       "       StratificationCategory1       Stratification1  \\\n",
       "0               Race/Ethnicity              Hispanic   \n",
       "1                    Education  High school graduate   \n",
       "2                       Income     $50,000 - $74,999   \n",
       "3                       Income     Data not reported   \n",
       "4                       Income     Less than $15,000   \n",
       "...                        ...                   ...   \n",
       "88624                   Gender                  Male   \n",
       "88625                   Income     $35,000 - $49,999   \n",
       "88626                   Income    $75,000 or greater   \n",
       "88627                   Income     $50,000 - $74,999   \n",
       "88628                   Income     Data not reported   \n",
       "\n",
       "      StratificationCategoryId1 StratificationID1  \n",
       "0                          RACE           RACEHIS  \n",
       "1                           EDU         EDUHSGRAD  \n",
       "2                           INC           INC5075  \n",
       "3                           INC             INCNR  \n",
       "4                           INC         INCLESS15  \n",
       "...                         ...               ...  \n",
       "88624                       GEN              MALE  \n",
       "88625                       INC           INC3550  \n",
       "88626                       INC         INC75PLUS  \n",
       "88627                       INC           INC5075  \n",
       "88628                       INC             INCNR  \n",
       "\n",
       "[88629 rows x 33 columns]"
      ]
     },
     "execution_count": 2,
     "metadata": {},
     "output_type": "execute_result"
    }
   ],
   "source": [
    "n_df= pd.read_csv(r\"C:\\Users\\lenovo\\Documents\\Python Files\\Nutrition__Physical_Activity__and_Obesity_-_Behavioral_Risk_Factor_Surveillance_System.csv\")\n",
    "n_df"
   ]
  },
  {
   "cell_type": "code",
   "execution_count": 3,
   "id": "cad5e814",
   "metadata": {},
   "outputs": [
    {
     "name": "stdout",
     "output_type": "stream",
     "text": [
      "<class 'pandas.core.frame.DataFrame'>\n",
      "RangeIndex: 88629 entries, 0 to 88628\n",
      "Data columns (total 33 columns):\n",
      " #   Column                      Non-Null Count  Dtype  \n",
      "---  ------                      --------------  -----  \n",
      " 0   YearStart                   88629 non-null  int64  \n",
      " 1   YearEnd                     88629 non-null  int64  \n",
      " 2   LocationAbbr                88629 non-null  object \n",
      " 3   LocationDesc                88629 non-null  object \n",
      " 4   Datasource                  88629 non-null  object \n",
      " 5   Class                       88629 non-null  object \n",
      " 6   Topic                       88629 non-null  object \n",
      " 7   Question                    88629 non-null  object \n",
      " 8   Data_Value_Unit             0 non-null      float64\n",
      " 9   Data_Value_Type             88629 non-null  object \n",
      " 10  Data_Value                  79851 non-null  float64\n",
      " 11  Data_Value_Alt              79851 non-null  float64\n",
      " 12  Data_Value_Footnote_Symbol  8778 non-null   object \n",
      " 13  Data_Value_Footnote         8778 non-null   object \n",
      " 14  Low_Confidence_Limit        79851 non-null  float64\n",
      " 15  High_Confidence_Limit       79851 non-null  float64\n",
      " 16  Sample_Size                 79851 non-null  float64\n",
      " 17  Total                       3165 non-null   object \n",
      " 18  Age(years)                  18990 non-null  object \n",
      " 19  Education                   12660 non-null  object \n",
      " 20  Gender                      6330 non-null   object \n",
      " 21  Income                      22155 non-null  object \n",
      " 22  Race/Ethnicity              25320 non-null  object \n",
      " 23  GeoLocation                 86977 non-null  object \n",
      " 24  ClassID                     88629 non-null  object \n",
      " 25  TopicID                     88629 non-null  object \n",
      " 26  QuestionID                  88629 non-null  object \n",
      " 27  DataValueTypeID             88629 non-null  object \n",
      " 28  LocationID                  88629 non-null  int64  \n",
      " 29  StratificationCategory1     88620 non-null  object \n",
      " 30  Stratification1             88620 non-null  object \n",
      " 31  StratificationCategoryId1   88620 non-null  object \n",
      " 32  StratificationID1           88620 non-null  object \n",
      "dtypes: float64(6), int64(3), object(24)\n",
      "memory usage: 22.3+ MB\n"
     ]
    }
   ],
   "source": [
    "n_df.info()"
   ]
  },
  {
   "cell_type": "code",
   "execution_count": 4,
   "id": "dcdcd0f6",
   "metadata": {},
   "outputs": [
    {
     "data": {
      "text/plain": [
       "YearStart                       0.000000\n",
       "YearEnd                         0.000000\n",
       "LocationAbbr                    0.000000\n",
       "LocationDesc                    0.000000\n",
       "Datasource                      0.000000\n",
       "Class                           0.000000\n",
       "Topic                           0.000000\n",
       "Question                        0.000000\n",
       "Data_Value_Unit               100.000000\n",
       "Data_Value_Type                 0.000000\n",
       "Data_Value                      9.904207\n",
       "Data_Value_Alt                  9.904207\n",
       "Data_Value_Footnote_Symbol     90.095793\n",
       "Data_Value_Footnote            90.095793\n",
       "Low_Confidence_Limit            9.904207\n",
       "High_Confidence_Limit           9.904207\n",
       "Sample_Size                     9.904207\n",
       "Total                          96.428934\n",
       "Age(years)                     78.573605\n",
       "Education                      85.715736\n",
       "Gender                         92.857868\n",
       "Income                         75.002539\n",
       "Race/Ethnicity                 71.431473\n",
       "GeoLocation                     1.863950\n",
       "ClassID                         0.000000\n",
       "TopicID                         0.000000\n",
       "QuestionID                      0.000000\n",
       "DataValueTypeID                 0.000000\n",
       "LocationID                      0.000000\n",
       "StratificationCategory1         0.010155\n",
       "Stratification1                 0.010155\n",
       "StratificationCategoryId1       0.010155\n",
       "StratificationID1               0.010155\n",
       "dtype: float64"
      ]
     },
     "execution_count": 4,
     "metadata": {},
     "output_type": "execute_result"
    }
   ],
   "source": [
    "# percentage of null value\n",
    "n_df.isnull().sum()/88629*100"
   ]
  },
  {
   "cell_type": "code",
   "execution_count": 5,
   "id": "ad9b01ea",
   "metadata": {},
   "outputs": [],
   "source": [
    "n_df.drop(labels=['Data_Value_Footnote_Symbol', 'Data_Value_Footnote', 'Data_Value_Unit', 'Total', 'Age(years)', 'Education', \n",
    "                 'Gender', 'Income', 'Race/Ethnicity', 'DataValueTypeID', 'Data_Value_Alt', 'YearEnd'], axis=1, inplace= True)"
   ]
  },
  {
   "cell_type": "code",
   "execution_count": 6,
   "id": "59e558c7",
   "metadata": {},
   "outputs": [
    {
     "data": {
      "text/html": [
       "<div>\n",
       "<style scoped>\n",
       "    .dataframe tbody tr th:only-of-type {\n",
       "        vertical-align: middle;\n",
       "    }\n",
       "\n",
       "    .dataframe tbody tr th {\n",
       "        vertical-align: top;\n",
       "    }\n",
       "\n",
       "    .dataframe thead th {\n",
       "        text-align: right;\n",
       "    }\n",
       "</style>\n",
       "<table border=\"1\" class=\"dataframe\">\n",
       "  <thead>\n",
       "    <tr style=\"text-align: right;\">\n",
       "      <th></th>\n",
       "      <th>YearStart</th>\n",
       "      <th>LocationAbbr</th>\n",
       "      <th>LocationDesc</th>\n",
       "      <th>Datasource</th>\n",
       "      <th>Class</th>\n",
       "      <th>Topic</th>\n",
       "      <th>Question</th>\n",
       "      <th>Data_Value</th>\n",
       "      <th>Low_Confidence_Limit</th>\n",
       "      <th>High_Confidence_Limit</th>\n",
       "      <th>Sample_Size</th>\n",
       "      <th>GeoLocation</th>\n",
       "      <th>ClassID</th>\n",
       "      <th>TopicID</th>\n",
       "      <th>QuestionID</th>\n",
       "      <th>LocationID</th>\n",
       "      <th>StratificationCategory1</th>\n",
       "      <th>Stratification1</th>\n",
       "      <th>StratificationCategoryId1</th>\n",
       "      <th>StratificationID1</th>\n",
       "    </tr>\n",
       "  </thead>\n",
       "  <tbody>\n",
       "    <tr>\n",
       "      <th>0</th>\n",
       "      <td>2020</td>\n",
       "      <td>US</td>\n",
       "      <td>National</td>\n",
       "      <td>Behavioral Risk Factor Surveillance System</td>\n",
       "      <td>Physical Activity</td>\n",
       "      <td>Physical Activity - Behavior</td>\n",
       "      <td>Percent of adults who engage in no leisure-tim...</td>\n",
       "      <td>30.6</td>\n",
       "      <td>29.4</td>\n",
       "      <td>31.8</td>\n",
       "      <td>31255.0</td>\n",
       "      <td>NaN</td>\n",
       "      <td>PA</td>\n",
       "      <td>PA1</td>\n",
       "      <td>Q047</td>\n",
       "      <td>59</td>\n",
       "      <td>Race/Ethnicity</td>\n",
       "      <td>Hispanic</td>\n",
       "      <td>RACE</td>\n",
       "      <td>RACEHIS</td>\n",
       "    </tr>\n",
       "    <tr>\n",
       "      <th>1</th>\n",
       "      <td>2014</td>\n",
       "      <td>GU</td>\n",
       "      <td>Guam</td>\n",
       "      <td>Behavioral Risk Factor Surveillance System</td>\n",
       "      <td>Obesity / Weight Status</td>\n",
       "      <td>Obesity / Weight Status</td>\n",
       "      <td>Percent of adults aged 18 years and older who ...</td>\n",
       "      <td>29.3</td>\n",
       "      <td>25.7</td>\n",
       "      <td>33.3</td>\n",
       "      <td>842.0</td>\n",
       "      <td>(13.444304, 144.793731)</td>\n",
       "      <td>OWS</td>\n",
       "      <td>OWS1</td>\n",
       "      <td>Q036</td>\n",
       "      <td>66</td>\n",
       "      <td>Education</td>\n",
       "      <td>High school graduate</td>\n",
       "      <td>EDU</td>\n",
       "      <td>EDUHSGRAD</td>\n",
       "    </tr>\n",
       "    <tr>\n",
       "      <th>2</th>\n",
       "      <td>2013</td>\n",
       "      <td>US</td>\n",
       "      <td>National</td>\n",
       "      <td>Behavioral Risk Factor Surveillance System</td>\n",
       "      <td>Obesity / Weight Status</td>\n",
       "      <td>Obesity / Weight Status</td>\n",
       "      <td>Percent of adults aged 18 years and older who ...</td>\n",
       "      <td>28.8</td>\n",
       "      <td>28.1</td>\n",
       "      <td>29.5</td>\n",
       "      <td>62562.0</td>\n",
       "      <td>NaN</td>\n",
       "      <td>OWS</td>\n",
       "      <td>OWS1</td>\n",
       "      <td>Q036</td>\n",
       "      <td>59</td>\n",
       "      <td>Income</td>\n",
       "      <td>$50,000 - $74,999</td>\n",
       "      <td>INC</td>\n",
       "      <td>INC5075</td>\n",
       "    </tr>\n",
       "    <tr>\n",
       "      <th>3</th>\n",
       "      <td>2013</td>\n",
       "      <td>US</td>\n",
       "      <td>National</td>\n",
       "      <td>Behavioral Risk Factor Surveillance System</td>\n",
       "      <td>Obesity / Weight Status</td>\n",
       "      <td>Obesity / Weight Status</td>\n",
       "      <td>Percent of adults aged 18 years and older who ...</td>\n",
       "      <td>32.7</td>\n",
       "      <td>31.9</td>\n",
       "      <td>33.5</td>\n",
       "      <td>60069.0</td>\n",
       "      <td>NaN</td>\n",
       "      <td>OWS</td>\n",
       "      <td>OWS1</td>\n",
       "      <td>Q037</td>\n",
       "      <td>59</td>\n",
       "      <td>Income</td>\n",
       "      <td>Data not reported</td>\n",
       "      <td>INC</td>\n",
       "      <td>INCNR</td>\n",
       "    </tr>\n",
       "    <tr>\n",
       "      <th>4</th>\n",
       "      <td>2015</td>\n",
       "      <td>US</td>\n",
       "      <td>National</td>\n",
       "      <td>Behavioral Risk Factor Surveillance System</td>\n",
       "      <td>Physical Activity</td>\n",
       "      <td>Physical Activity - Behavior</td>\n",
       "      <td>Percent of adults who achieve at least 300 min...</td>\n",
       "      <td>26.6</td>\n",
       "      <td>25.6</td>\n",
       "      <td>27.6</td>\n",
       "      <td>30904.0</td>\n",
       "      <td>NaN</td>\n",
       "      <td>PA</td>\n",
       "      <td>PA1</td>\n",
       "      <td>Q045</td>\n",
       "      <td>59</td>\n",
       "      <td>Income</td>\n",
       "      <td>Less than $15,000</td>\n",
       "      <td>INC</td>\n",
       "      <td>INCLESS15</td>\n",
       "    </tr>\n",
       "    <tr>\n",
       "      <th>...</th>\n",
       "      <td>...</td>\n",
       "      <td>...</td>\n",
       "      <td>...</td>\n",
       "      <td>...</td>\n",
       "      <td>...</td>\n",
       "      <td>...</td>\n",
       "      <td>...</td>\n",
       "      <td>...</td>\n",
       "      <td>...</td>\n",
       "      <td>...</td>\n",
       "      <td>...</td>\n",
       "      <td>...</td>\n",
       "      <td>...</td>\n",
       "      <td>...</td>\n",
       "      <td>...</td>\n",
       "      <td>...</td>\n",
       "      <td>...</td>\n",
       "      <td>...</td>\n",
       "      <td>...</td>\n",
       "      <td>...</td>\n",
       "    </tr>\n",
       "    <tr>\n",
       "      <th>88624</th>\n",
       "      <td>2021</td>\n",
       "      <td>ND</td>\n",
       "      <td>North Dakota</td>\n",
       "      <td>Behavioral Risk Factor Surveillance System</td>\n",
       "      <td>Fruits and Vegetables</td>\n",
       "      <td>Fruits and Vegetables - Behavior</td>\n",
       "      <td>Percent of adults who report consuming vegetab...</td>\n",
       "      <td>27.2</td>\n",
       "      <td>25.1</td>\n",
       "      <td>29.5</td>\n",
       "      <td>2690.0</td>\n",
       "      <td>(47.47531977900047, -100.11842104899966)</td>\n",
       "      <td>FV</td>\n",
       "      <td>FV1</td>\n",
       "      <td>Q019</td>\n",
       "      <td>38</td>\n",
       "      <td>Gender</td>\n",
       "      <td>Male</td>\n",
       "      <td>GEN</td>\n",
       "      <td>MALE</td>\n",
       "    </tr>\n",
       "    <tr>\n",
       "      <th>88625</th>\n",
       "      <td>2021</td>\n",
       "      <td>PR</td>\n",
       "      <td>Puerto Rico</td>\n",
       "      <td>Behavioral Risk Factor Surveillance System</td>\n",
       "      <td>Physical Activity</td>\n",
       "      <td>Physical Activity - Behavior</td>\n",
       "      <td>Percent of adults who engage in no leisure-tim...</td>\n",
       "      <td>37.4</td>\n",
       "      <td>30.7</td>\n",
       "      <td>44.5</td>\n",
       "      <td>347.0</td>\n",
       "      <td>(18.220833, -66.590149)</td>\n",
       "      <td>PA</td>\n",
       "      <td>PA1</td>\n",
       "      <td>Q047</td>\n",
       "      <td>72</td>\n",
       "      <td>Income</td>\n",
       "      <td>$35,000 - $49,999</td>\n",
       "      <td>INC</td>\n",
       "      <td>INC3550</td>\n",
       "    </tr>\n",
       "    <tr>\n",
       "      <th>88626</th>\n",
       "      <td>2021</td>\n",
       "      <td>WI</td>\n",
       "      <td>Wisconsin</td>\n",
       "      <td>Behavioral Risk Factor Surveillance System</td>\n",
       "      <td>Physical Activity</td>\n",
       "      <td>Physical Activity - Behavior</td>\n",
       "      <td>Percent of adults who engage in no leisure-tim...</td>\n",
       "      <td>11.8</td>\n",
       "      <td>9.0</td>\n",
       "      <td>15.2</td>\n",
       "      <td>850.0</td>\n",
       "      <td>(44.39319117400049, -89.81637074199966)</td>\n",
       "      <td>PA</td>\n",
       "      <td>PA1</td>\n",
       "      <td>Q047</td>\n",
       "      <td>55</td>\n",
       "      <td>Income</td>\n",
       "      <td>$75,000 or greater</td>\n",
       "      <td>INC</td>\n",
       "      <td>INC75PLUS</td>\n",
       "    </tr>\n",
       "    <tr>\n",
       "      <th>88627</th>\n",
       "      <td>2021</td>\n",
       "      <td>UT</td>\n",
       "      <td>Utah</td>\n",
       "      <td>Behavioral Risk Factor Surveillance System</td>\n",
       "      <td>Fruits and Vegetables</td>\n",
       "      <td>Fruits and Vegetables - Behavior</td>\n",
       "      <td>Percent of adults who report consuming fruit l...</td>\n",
       "      <td>37.1</td>\n",
       "      <td>34.0</td>\n",
       "      <td>40.4</td>\n",
       "      <td>1451.0</td>\n",
       "      <td>(39.360700171000474, -111.58713063499971)</td>\n",
       "      <td>FV</td>\n",
       "      <td>FV1</td>\n",
       "      <td>Q018</td>\n",
       "      <td>49</td>\n",
       "      <td>Income</td>\n",
       "      <td>$50,000 - $74,999</td>\n",
       "      <td>INC</td>\n",
       "      <td>INC5075</td>\n",
       "    </tr>\n",
       "    <tr>\n",
       "      <th>88628</th>\n",
       "      <td>2021</td>\n",
       "      <td>US</td>\n",
       "      <td>National</td>\n",
       "      <td>Behavioral Risk Factor Surveillance System</td>\n",
       "      <td>Physical Activity</td>\n",
       "      <td>Physical Activity - Behavior</td>\n",
       "      <td>Percent of adults who engage in no leisure-tim...</td>\n",
       "      <td>19.0</td>\n",
       "      <td>18.6</td>\n",
       "      <td>19.4</td>\n",
       "      <td>178279.0</td>\n",
       "      <td>NaN</td>\n",
       "      <td>PA</td>\n",
       "      <td>PA1</td>\n",
       "      <td>Q047</td>\n",
       "      <td>59</td>\n",
       "      <td>Income</td>\n",
       "      <td>Data not reported</td>\n",
       "      <td>INC</td>\n",
       "      <td>INCNR</td>\n",
       "    </tr>\n",
       "  </tbody>\n",
       "</table>\n",
       "<p>88629 rows × 20 columns</p>\n",
       "</div>"
      ],
      "text/plain": [
       "       YearStart LocationAbbr  LocationDesc  \\\n",
       "0           2020           US      National   \n",
       "1           2014           GU          Guam   \n",
       "2           2013           US      National   \n",
       "3           2013           US      National   \n",
       "4           2015           US      National   \n",
       "...          ...          ...           ...   \n",
       "88624       2021           ND  North Dakota   \n",
       "88625       2021           PR   Puerto Rico   \n",
       "88626       2021           WI     Wisconsin   \n",
       "88627       2021           UT          Utah   \n",
       "88628       2021           US      National   \n",
       "\n",
       "                                       Datasource                    Class  \\\n",
       "0      Behavioral Risk Factor Surveillance System        Physical Activity   \n",
       "1      Behavioral Risk Factor Surveillance System  Obesity / Weight Status   \n",
       "2      Behavioral Risk Factor Surveillance System  Obesity / Weight Status   \n",
       "3      Behavioral Risk Factor Surveillance System  Obesity / Weight Status   \n",
       "4      Behavioral Risk Factor Surveillance System        Physical Activity   \n",
       "...                                           ...                      ...   \n",
       "88624  Behavioral Risk Factor Surveillance System    Fruits and Vegetables   \n",
       "88625  Behavioral Risk Factor Surveillance System        Physical Activity   \n",
       "88626  Behavioral Risk Factor Surveillance System        Physical Activity   \n",
       "88627  Behavioral Risk Factor Surveillance System    Fruits and Vegetables   \n",
       "88628  Behavioral Risk Factor Surveillance System        Physical Activity   \n",
       "\n",
       "                                  Topic  \\\n",
       "0          Physical Activity - Behavior   \n",
       "1               Obesity / Weight Status   \n",
       "2               Obesity / Weight Status   \n",
       "3               Obesity / Weight Status   \n",
       "4          Physical Activity - Behavior   \n",
       "...                                 ...   \n",
       "88624  Fruits and Vegetables - Behavior   \n",
       "88625      Physical Activity - Behavior   \n",
       "88626      Physical Activity - Behavior   \n",
       "88627  Fruits and Vegetables - Behavior   \n",
       "88628      Physical Activity - Behavior   \n",
       "\n",
       "                                                Question  Data_Value  \\\n",
       "0      Percent of adults who engage in no leisure-tim...        30.6   \n",
       "1      Percent of adults aged 18 years and older who ...        29.3   \n",
       "2      Percent of adults aged 18 years and older who ...        28.8   \n",
       "3      Percent of adults aged 18 years and older who ...        32.7   \n",
       "4      Percent of adults who achieve at least 300 min...        26.6   \n",
       "...                                                  ...         ...   \n",
       "88624  Percent of adults who report consuming vegetab...        27.2   \n",
       "88625  Percent of adults who engage in no leisure-tim...        37.4   \n",
       "88626  Percent of adults who engage in no leisure-tim...        11.8   \n",
       "88627  Percent of adults who report consuming fruit l...        37.1   \n",
       "88628  Percent of adults who engage in no leisure-tim...        19.0   \n",
       "\n",
       "       Low_Confidence_Limit  High_Confidence_Limit   Sample_Size  \\\n",
       "0                      29.4                    31.8      31255.0   \n",
       "1                      25.7                    33.3        842.0   \n",
       "2                      28.1                    29.5      62562.0   \n",
       "3                      31.9                    33.5      60069.0   \n",
       "4                      25.6                    27.6      30904.0   \n",
       "...                     ...                     ...          ...   \n",
       "88624                  25.1                    29.5       2690.0   \n",
       "88625                  30.7                    44.5        347.0   \n",
       "88626                   9.0                    15.2        850.0   \n",
       "88627                  34.0                    40.4       1451.0   \n",
       "88628                  18.6                    19.4     178279.0   \n",
       "\n",
       "                                     GeoLocation ClassID TopicID QuestionID  \\\n",
       "0                                            NaN      PA     PA1       Q047   \n",
       "1                        (13.444304, 144.793731)     OWS    OWS1       Q036   \n",
       "2                                            NaN     OWS    OWS1       Q036   \n",
       "3                                            NaN     OWS    OWS1       Q037   \n",
       "4                                            NaN      PA     PA1       Q045   \n",
       "...                                          ...     ...     ...        ...   \n",
       "88624   (47.47531977900047, -100.11842104899966)      FV     FV1       Q019   \n",
       "88625                    (18.220833, -66.590149)      PA     PA1       Q047   \n",
       "88626    (44.39319117400049, -89.81637074199966)      PA     PA1       Q047   \n",
       "88627  (39.360700171000474, -111.58713063499971)      FV     FV1       Q018   \n",
       "88628                                        NaN      PA     PA1       Q047   \n",
       "\n",
       "       LocationID StratificationCategory1       Stratification1  \\\n",
       "0              59          Race/Ethnicity              Hispanic   \n",
       "1              66               Education  High school graduate   \n",
       "2              59                  Income     $50,000 - $74,999   \n",
       "3              59                  Income     Data not reported   \n",
       "4              59                  Income     Less than $15,000   \n",
       "...           ...                     ...                   ...   \n",
       "88624          38                  Gender                  Male   \n",
       "88625          72                  Income     $35,000 - $49,999   \n",
       "88626          55                  Income    $75,000 or greater   \n",
       "88627          49                  Income     $50,000 - $74,999   \n",
       "88628          59                  Income     Data not reported   \n",
       "\n",
       "      StratificationCategoryId1 StratificationID1  \n",
       "0                          RACE           RACEHIS  \n",
       "1                           EDU         EDUHSGRAD  \n",
       "2                           INC           INC5075  \n",
       "3                           INC             INCNR  \n",
       "4                           INC         INCLESS15  \n",
       "...                         ...               ...  \n",
       "88624                       GEN              MALE  \n",
       "88625                       INC           INC3550  \n",
       "88626                       INC         INC75PLUS  \n",
       "88627                       INC           INC5075  \n",
       "88628                       INC             INCNR  \n",
       "\n",
       "[88629 rows x 20 columns]"
      ]
     },
     "execution_count": 6,
     "metadata": {},
     "output_type": "execute_result"
    }
   ],
   "source": [
    "del n_df['Data_Value_Type']\n",
    "n_df"
   ]
  },
  {
   "cell_type": "code",
   "execution_count": 7,
   "id": "f0ea8c82",
   "metadata": {},
   "outputs": [],
   "source": [
    "n_df['StratificationCategory1'].fillna(method='ffill', inplace=True )\n",
    "n_df['StratificationCategoryId1'].fillna(method='ffill', inplace=True)\n",
    "n_df['StratificationID1'].fillna(method='bfill', inplace=True )\n",
    "n_df['Stratification1'].fillna(method='bfill', inplace=True )"
   ]
  },
  {
   "cell_type": "code",
   "execution_count": 8,
   "id": "2186f4e5",
   "metadata": {},
   "outputs": [],
   "source": [
    "n_df.dropna(subset=['Data_Value','Low_Confidence_Limit','High_Confidence_Limit ','Sample_Size' ], inplace=True)"
   ]
  },
  {
   "cell_type": "code",
   "execution_count": 9,
   "id": "add259ae",
   "metadata": {},
   "outputs": [],
   "source": [
    "n_df['GeoLocation'].fillna(method='bfill', inplace=True)\n",
    "n_df['GeoLocation'].fillna(method='ffill', inplace=True)"
   ]
  },
  {
   "cell_type": "code",
   "execution_count": 10,
   "id": "07caec1e",
   "metadata": {},
   "outputs": [
    {
     "data": {
      "text/plain": [
       "YearStart                    0.0\n",
       "LocationAbbr                 0.0\n",
       "LocationDesc                 0.0\n",
       "Datasource                   0.0\n",
       "Class                        0.0\n",
       "Topic                        0.0\n",
       "Question                     0.0\n",
       "Data_Value                   0.0\n",
       "Low_Confidence_Limit         0.0\n",
       "High_Confidence_Limit        0.0\n",
       "Sample_Size                  0.0\n",
       "GeoLocation                  0.0\n",
       "ClassID                      0.0\n",
       "TopicID                      0.0\n",
       "QuestionID                   0.0\n",
       "LocationID                   0.0\n",
       "StratificationCategory1      0.0\n",
       "Stratification1              0.0\n",
       "StratificationCategoryId1    0.0\n",
       "StratificationID1            0.0\n",
       "dtype: float64"
      ]
     },
     "execution_count": 10,
     "metadata": {},
     "output_type": "execute_result"
    }
   ],
   "source": [
    "n_df.isnull().sum()/88629*100"
   ]
  },
  {
   "cell_type": "code",
   "execution_count": 11,
   "id": "98a1eda8",
   "metadata": {},
   "outputs": [
    {
     "data": {
      "text/plain": [
       "0"
      ]
     },
     "execution_count": 11,
     "metadata": {},
     "output_type": "execute_result"
    }
   ],
   "source": [
    "n_df.duplicated().sum()"
   ]
  },
  {
   "cell_type": "code",
   "execution_count": 12,
   "id": "70e16a14",
   "metadata": {},
   "outputs": [
    {
     "data": {
      "text/html": [
       "<div>\n",
       "<style scoped>\n",
       "    .dataframe tbody tr th:only-of-type {\n",
       "        vertical-align: middle;\n",
       "    }\n",
       "\n",
       "    .dataframe tbody tr th {\n",
       "        vertical-align: top;\n",
       "    }\n",
       "\n",
       "    .dataframe thead th {\n",
       "        text-align: right;\n",
       "    }\n",
       "</style>\n",
       "<table border=\"1\" class=\"dataframe\">\n",
       "  <thead>\n",
       "    <tr style=\"text-align: right;\">\n",
       "      <th></th>\n",
       "      <th>YearStart</th>\n",
       "      <th>LocationAbbr</th>\n",
       "      <th>LocationDesc</th>\n",
       "      <th>Datasource</th>\n",
       "      <th>Class</th>\n",
       "      <th>Topic</th>\n",
       "      <th>Question</th>\n",
       "      <th>Data_Value</th>\n",
       "      <th>Low_Confidence_Limit</th>\n",
       "      <th>High_Confidence_Limit</th>\n",
       "      <th>Sample_Size</th>\n",
       "      <th>GeoLocation</th>\n",
       "      <th>ClassID</th>\n",
       "      <th>TopicID</th>\n",
       "      <th>QuestionID</th>\n",
       "      <th>LocationID</th>\n",
       "      <th>StratificationCategory1</th>\n",
       "      <th>Stratification1</th>\n",
       "      <th>StratificationCategoryId1</th>\n",
       "      <th>StratificationID1</th>\n",
       "    </tr>\n",
       "  </thead>\n",
       "  <tbody>\n",
       "    <tr>\n",
       "      <th>0</th>\n",
       "      <td>2020</td>\n",
       "      <td>US</td>\n",
       "      <td>National</td>\n",
       "      <td>Behavioral Risk Factor Surveillance System</td>\n",
       "      <td>Physical Activity</td>\n",
       "      <td>Physical Activity - Behavior</td>\n",
       "      <td>Percent of adults who engage in no leisure-tim...</td>\n",
       "      <td>30.6</td>\n",
       "      <td>29.4</td>\n",
       "      <td>31.8</td>\n",
       "      <td>31255.0</td>\n",
       "      <td>(13.444304, 144.793731)</td>\n",
       "      <td>PA</td>\n",
       "      <td>PA1</td>\n",
       "      <td>Q047</td>\n",
       "      <td>59</td>\n",
       "      <td>Race/Ethnicity</td>\n",
       "      <td>Hispanic</td>\n",
       "      <td>RACE</td>\n",
       "      <td>RACEHIS</td>\n",
       "    </tr>\n",
       "    <tr>\n",
       "      <th>1</th>\n",
       "      <td>2014</td>\n",
       "      <td>GU</td>\n",
       "      <td>Guam</td>\n",
       "      <td>Behavioral Risk Factor Surveillance System</td>\n",
       "      <td>Obesity / Weight Status</td>\n",
       "      <td>Obesity / Weight Status</td>\n",
       "      <td>Percent of adults aged 18 years and older who ...</td>\n",
       "      <td>29.3</td>\n",
       "      <td>25.7</td>\n",
       "      <td>33.3</td>\n",
       "      <td>842.0</td>\n",
       "      <td>(13.444304, 144.793731)</td>\n",
       "      <td>OWS</td>\n",
       "      <td>OWS1</td>\n",
       "      <td>Q036</td>\n",
       "      <td>66</td>\n",
       "      <td>Education</td>\n",
       "      <td>High school graduate</td>\n",
       "      <td>EDU</td>\n",
       "      <td>EDUHSGRAD</td>\n",
       "    </tr>\n",
       "    <tr>\n",
       "      <th>2</th>\n",
       "      <td>2013</td>\n",
       "      <td>US</td>\n",
       "      <td>National</td>\n",
       "      <td>Behavioral Risk Factor Surveillance System</td>\n",
       "      <td>Obesity / Weight Status</td>\n",
       "      <td>Obesity / Weight Status</td>\n",
       "      <td>Percent of adults aged 18 years and older who ...</td>\n",
       "      <td>28.8</td>\n",
       "      <td>28.1</td>\n",
       "      <td>29.5</td>\n",
       "      <td>62562.0</td>\n",
       "      <td>(13.444304, 144.793731)</td>\n",
       "      <td>OWS</td>\n",
       "      <td>OWS1</td>\n",
       "      <td>Q036</td>\n",
       "      <td>59</td>\n",
       "      <td>Income</td>\n",
       "      <td>$50,000 - $74,999</td>\n",
       "      <td>INC</td>\n",
       "      <td>INC5075</td>\n",
       "    </tr>\n",
       "    <tr>\n",
       "      <th>3</th>\n",
       "      <td>2013</td>\n",
       "      <td>US</td>\n",
       "      <td>National</td>\n",
       "      <td>Behavioral Risk Factor Surveillance System</td>\n",
       "      <td>Obesity / Weight Status</td>\n",
       "      <td>Obesity / Weight Status</td>\n",
       "      <td>Percent of adults aged 18 years and older who ...</td>\n",
       "      <td>32.7</td>\n",
       "      <td>31.9</td>\n",
       "      <td>33.5</td>\n",
       "      <td>60069.0</td>\n",
       "      <td>(13.444304, 144.793731)</td>\n",
       "      <td>OWS</td>\n",
       "      <td>OWS1</td>\n",
       "      <td>Q037</td>\n",
       "      <td>59</td>\n",
       "      <td>Income</td>\n",
       "      <td>Data not reported</td>\n",
       "      <td>INC</td>\n",
       "      <td>INCNR</td>\n",
       "    </tr>\n",
       "    <tr>\n",
       "      <th>4</th>\n",
       "      <td>2015</td>\n",
       "      <td>US</td>\n",
       "      <td>National</td>\n",
       "      <td>Behavioral Risk Factor Surveillance System</td>\n",
       "      <td>Physical Activity</td>\n",
       "      <td>Physical Activity - Behavior</td>\n",
       "      <td>Percent of adults who achieve at least 300 min...</td>\n",
       "      <td>26.6</td>\n",
       "      <td>25.6</td>\n",
       "      <td>27.6</td>\n",
       "      <td>30904.0</td>\n",
       "      <td>(13.444304, 144.793731)</td>\n",
       "      <td>PA</td>\n",
       "      <td>PA1</td>\n",
       "      <td>Q045</td>\n",
       "      <td>59</td>\n",
       "      <td>Income</td>\n",
       "      <td>Less than $15,000</td>\n",
       "      <td>INC</td>\n",
       "      <td>INCLESS15</td>\n",
       "    </tr>\n",
       "    <tr>\n",
       "      <th>...</th>\n",
       "      <td>...</td>\n",
       "      <td>...</td>\n",
       "      <td>...</td>\n",
       "      <td>...</td>\n",
       "      <td>...</td>\n",
       "      <td>...</td>\n",
       "      <td>...</td>\n",
       "      <td>...</td>\n",
       "      <td>...</td>\n",
       "      <td>...</td>\n",
       "      <td>...</td>\n",
       "      <td>...</td>\n",
       "      <td>...</td>\n",
       "      <td>...</td>\n",
       "      <td>...</td>\n",
       "      <td>...</td>\n",
       "      <td>...</td>\n",
       "      <td>...</td>\n",
       "      <td>...</td>\n",
       "      <td>...</td>\n",
       "    </tr>\n",
       "    <tr>\n",
       "      <th>88624</th>\n",
       "      <td>2021</td>\n",
       "      <td>ND</td>\n",
       "      <td>North Dakota</td>\n",
       "      <td>Behavioral Risk Factor Surveillance System</td>\n",
       "      <td>Fruits and Vegetables</td>\n",
       "      <td>Fruits and Vegetables - Behavior</td>\n",
       "      <td>Percent of adults who report consuming vegetab...</td>\n",
       "      <td>27.2</td>\n",
       "      <td>25.1</td>\n",
       "      <td>29.5</td>\n",
       "      <td>2690.0</td>\n",
       "      <td>(47.47531977900047, -100.11842104899966)</td>\n",
       "      <td>FV</td>\n",
       "      <td>FV1</td>\n",
       "      <td>Q019</td>\n",
       "      <td>38</td>\n",
       "      <td>Gender</td>\n",
       "      <td>Male</td>\n",
       "      <td>GEN</td>\n",
       "      <td>MALE</td>\n",
       "    </tr>\n",
       "    <tr>\n",
       "      <th>88625</th>\n",
       "      <td>2021</td>\n",
       "      <td>PR</td>\n",
       "      <td>Puerto Rico</td>\n",
       "      <td>Behavioral Risk Factor Surveillance System</td>\n",
       "      <td>Physical Activity</td>\n",
       "      <td>Physical Activity - Behavior</td>\n",
       "      <td>Percent of adults who engage in no leisure-tim...</td>\n",
       "      <td>37.4</td>\n",
       "      <td>30.7</td>\n",
       "      <td>44.5</td>\n",
       "      <td>347.0</td>\n",
       "      <td>(18.220833, -66.590149)</td>\n",
       "      <td>PA</td>\n",
       "      <td>PA1</td>\n",
       "      <td>Q047</td>\n",
       "      <td>72</td>\n",
       "      <td>Income</td>\n",
       "      <td>$35,000 - $49,999</td>\n",
       "      <td>INC</td>\n",
       "      <td>INC3550</td>\n",
       "    </tr>\n",
       "    <tr>\n",
       "      <th>88626</th>\n",
       "      <td>2021</td>\n",
       "      <td>WI</td>\n",
       "      <td>Wisconsin</td>\n",
       "      <td>Behavioral Risk Factor Surveillance System</td>\n",
       "      <td>Physical Activity</td>\n",
       "      <td>Physical Activity - Behavior</td>\n",
       "      <td>Percent of adults who engage in no leisure-tim...</td>\n",
       "      <td>11.8</td>\n",
       "      <td>9.0</td>\n",
       "      <td>15.2</td>\n",
       "      <td>850.0</td>\n",
       "      <td>(44.39319117400049, -89.81637074199966)</td>\n",
       "      <td>PA</td>\n",
       "      <td>PA1</td>\n",
       "      <td>Q047</td>\n",
       "      <td>55</td>\n",
       "      <td>Income</td>\n",
       "      <td>$75,000 or greater</td>\n",
       "      <td>INC</td>\n",
       "      <td>INC75PLUS</td>\n",
       "    </tr>\n",
       "    <tr>\n",
       "      <th>88627</th>\n",
       "      <td>2021</td>\n",
       "      <td>UT</td>\n",
       "      <td>Utah</td>\n",
       "      <td>Behavioral Risk Factor Surveillance System</td>\n",
       "      <td>Fruits and Vegetables</td>\n",
       "      <td>Fruits and Vegetables - Behavior</td>\n",
       "      <td>Percent of adults who report consuming fruit l...</td>\n",
       "      <td>37.1</td>\n",
       "      <td>34.0</td>\n",
       "      <td>40.4</td>\n",
       "      <td>1451.0</td>\n",
       "      <td>(39.360700171000474, -111.58713063499971)</td>\n",
       "      <td>FV</td>\n",
       "      <td>FV1</td>\n",
       "      <td>Q018</td>\n",
       "      <td>49</td>\n",
       "      <td>Income</td>\n",
       "      <td>$50,000 - $74,999</td>\n",
       "      <td>INC</td>\n",
       "      <td>INC5075</td>\n",
       "    </tr>\n",
       "    <tr>\n",
       "      <th>88628</th>\n",
       "      <td>2021</td>\n",
       "      <td>US</td>\n",
       "      <td>National</td>\n",
       "      <td>Behavioral Risk Factor Surveillance System</td>\n",
       "      <td>Physical Activity</td>\n",
       "      <td>Physical Activity - Behavior</td>\n",
       "      <td>Percent of adults who engage in no leisure-tim...</td>\n",
       "      <td>19.0</td>\n",
       "      <td>18.6</td>\n",
       "      <td>19.4</td>\n",
       "      <td>178279.0</td>\n",
       "      <td>(39.360700171000474, -111.58713063499971)</td>\n",
       "      <td>PA</td>\n",
       "      <td>PA1</td>\n",
       "      <td>Q047</td>\n",
       "      <td>59</td>\n",
       "      <td>Income</td>\n",
       "      <td>Data not reported</td>\n",
       "      <td>INC</td>\n",
       "      <td>INCNR</td>\n",
       "    </tr>\n",
       "  </tbody>\n",
       "</table>\n",
       "<p>79851 rows × 20 columns</p>\n",
       "</div>"
      ],
      "text/plain": [
       "       YearStart LocationAbbr  LocationDesc  \\\n",
       "0           2020           US      National   \n",
       "1           2014           GU          Guam   \n",
       "2           2013           US      National   \n",
       "3           2013           US      National   \n",
       "4           2015           US      National   \n",
       "...          ...          ...           ...   \n",
       "88624       2021           ND  North Dakota   \n",
       "88625       2021           PR   Puerto Rico   \n",
       "88626       2021           WI     Wisconsin   \n",
       "88627       2021           UT          Utah   \n",
       "88628       2021           US      National   \n",
       "\n",
       "                                       Datasource                    Class  \\\n",
       "0      Behavioral Risk Factor Surveillance System        Physical Activity   \n",
       "1      Behavioral Risk Factor Surveillance System  Obesity / Weight Status   \n",
       "2      Behavioral Risk Factor Surveillance System  Obesity / Weight Status   \n",
       "3      Behavioral Risk Factor Surveillance System  Obesity / Weight Status   \n",
       "4      Behavioral Risk Factor Surveillance System        Physical Activity   \n",
       "...                                           ...                      ...   \n",
       "88624  Behavioral Risk Factor Surveillance System    Fruits and Vegetables   \n",
       "88625  Behavioral Risk Factor Surveillance System        Physical Activity   \n",
       "88626  Behavioral Risk Factor Surveillance System        Physical Activity   \n",
       "88627  Behavioral Risk Factor Surveillance System    Fruits and Vegetables   \n",
       "88628  Behavioral Risk Factor Surveillance System        Physical Activity   \n",
       "\n",
       "                                  Topic  \\\n",
       "0          Physical Activity - Behavior   \n",
       "1               Obesity / Weight Status   \n",
       "2               Obesity / Weight Status   \n",
       "3               Obesity / Weight Status   \n",
       "4          Physical Activity - Behavior   \n",
       "...                                 ...   \n",
       "88624  Fruits and Vegetables - Behavior   \n",
       "88625      Physical Activity - Behavior   \n",
       "88626      Physical Activity - Behavior   \n",
       "88627  Fruits and Vegetables - Behavior   \n",
       "88628      Physical Activity - Behavior   \n",
       "\n",
       "                                                Question  Data_Value  \\\n",
       "0      Percent of adults who engage in no leisure-tim...        30.6   \n",
       "1      Percent of adults aged 18 years and older who ...        29.3   \n",
       "2      Percent of adults aged 18 years and older who ...        28.8   \n",
       "3      Percent of adults aged 18 years and older who ...        32.7   \n",
       "4      Percent of adults who achieve at least 300 min...        26.6   \n",
       "...                                                  ...         ...   \n",
       "88624  Percent of adults who report consuming vegetab...        27.2   \n",
       "88625  Percent of adults who engage in no leisure-tim...        37.4   \n",
       "88626  Percent of adults who engage in no leisure-tim...        11.8   \n",
       "88627  Percent of adults who report consuming fruit l...        37.1   \n",
       "88628  Percent of adults who engage in no leisure-tim...        19.0   \n",
       "\n",
       "       Low_Confidence_Limit  High_Confidence_Limit   Sample_Size  \\\n",
       "0                      29.4                    31.8      31255.0   \n",
       "1                      25.7                    33.3        842.0   \n",
       "2                      28.1                    29.5      62562.0   \n",
       "3                      31.9                    33.5      60069.0   \n",
       "4                      25.6                    27.6      30904.0   \n",
       "...                     ...                     ...          ...   \n",
       "88624                  25.1                    29.5       2690.0   \n",
       "88625                  30.7                    44.5        347.0   \n",
       "88626                   9.0                    15.2        850.0   \n",
       "88627                  34.0                    40.4       1451.0   \n",
       "88628                  18.6                    19.4     178279.0   \n",
       "\n",
       "                                     GeoLocation ClassID TopicID QuestionID  \\\n",
       "0                        (13.444304, 144.793731)      PA     PA1       Q047   \n",
       "1                        (13.444304, 144.793731)     OWS    OWS1       Q036   \n",
       "2                        (13.444304, 144.793731)     OWS    OWS1       Q036   \n",
       "3                        (13.444304, 144.793731)     OWS    OWS1       Q037   \n",
       "4                        (13.444304, 144.793731)      PA     PA1       Q045   \n",
       "...                                          ...     ...     ...        ...   \n",
       "88624   (47.47531977900047, -100.11842104899966)      FV     FV1       Q019   \n",
       "88625                    (18.220833, -66.590149)      PA     PA1       Q047   \n",
       "88626    (44.39319117400049, -89.81637074199966)      PA     PA1       Q047   \n",
       "88627  (39.360700171000474, -111.58713063499971)      FV     FV1       Q018   \n",
       "88628  (39.360700171000474, -111.58713063499971)      PA     PA1       Q047   \n",
       "\n",
       "       LocationID StratificationCategory1       Stratification1  \\\n",
       "0              59          Race/Ethnicity              Hispanic   \n",
       "1              66               Education  High school graduate   \n",
       "2              59                  Income     $50,000 - $74,999   \n",
       "3              59                  Income     Data not reported   \n",
       "4              59                  Income     Less than $15,000   \n",
       "...           ...                     ...                   ...   \n",
       "88624          38                  Gender                  Male   \n",
       "88625          72                  Income     $35,000 - $49,999   \n",
       "88626          55                  Income    $75,000 or greater   \n",
       "88627          49                  Income     $50,000 - $74,999   \n",
       "88628          59                  Income     Data not reported   \n",
       "\n",
       "      StratificationCategoryId1 StratificationID1  \n",
       "0                          RACE           RACEHIS  \n",
       "1                           EDU         EDUHSGRAD  \n",
       "2                           INC           INC5075  \n",
       "3                           INC             INCNR  \n",
       "4                           INC         INCLESS15  \n",
       "...                         ...               ...  \n",
       "88624                       GEN              MALE  \n",
       "88625                       INC           INC3550  \n",
       "88626                       INC         INC75PLUS  \n",
       "88627                       INC           INC5075  \n",
       "88628                       INC             INCNR  \n",
       "\n",
       "[79851 rows x 20 columns]"
      ]
     },
     "execution_count": 12,
     "metadata": {},
     "output_type": "execute_result"
    }
   ],
   "source": [
    "n_df"
   ]
  },
  {
   "cell_type": "markdown",
   "id": "9a4f9ec4",
   "metadata": {},
   "source": [
    "## Analysis"
   ]
  },
  {
   "cell_type": "code",
   "execution_count": 13,
   "id": "6a12fe15",
   "metadata": {},
   "outputs": [
    {
     "data": {
      "text/plain": [
       "YearStart  Datasource                                \n",
       "2011       Behavioral Risk Factor Surveillance System     9307\n",
       "2012       Behavioral Risk Factor Surveillance System     4000\n",
       "2013       Behavioral Risk Factor Surveillance System     9257\n",
       "2014       Behavioral Risk Factor Surveillance System     4114\n",
       "2015       Behavioral Risk Factor Surveillance System     9497\n",
       "2016       Behavioral Risk Factor Surveillance System     4177\n",
       "2017       Behavioral Risk Factor Surveillance System    12329\n",
       "2018       Behavioral Risk Factor Surveillance System     4115\n",
       "2019       Behavioral Risk Factor Surveillance System    12051\n",
       "2020       Behavioral Risk Factor Surveillance System     4118\n",
       "2021       Behavioral Risk Factor Surveillance System     6886\n",
       "Name: Datasource, dtype: int64"
      ]
     },
     "execution_count": 13,
     "metadata": {},
     "output_type": "execute_result"
    }
   ],
   "source": [
    "# 1. count year-wise datasource\n",
    "n_df.groupby('YearStart')['Datasource'].value_counts()"
   ]
  },
  {
   "cell_type": "code",
   "execution_count": 14,
   "id": "8b76e656",
   "metadata": {},
   "outputs": [
    {
     "data": {
      "text/plain": [
       "<Axes: xlabel='YearStart'>"
      ]
     },
     "execution_count": 14,
     "metadata": {},
     "output_type": "execute_result"
    },
    {
     "data": {
      "image/png": "[encoded data removed]",
      "text/plain": [
       "<Figure size 640x480 with 1 Axes>"
      ]
     },
     "metadata": {},
     "output_type": "display_data"
    }
   ],
   "source": [
    "# 2. year-wise data value\n",
    "n_df.groupby('YearStart')['Data_Value'].sum().plot(kind='bar',color=[\"red\", \"yellow\", \"blue\",\"green\", \"pink\"])"
   ]
  },
  {
   "cell_type": "code",
   "execution_count": 15,
   "id": "76a5209b",
   "metadata": {},
   "outputs": [
    {
     "data": {
      "text/plain": [
       "YearStart                                                                 2017\n",
       "LocationAbbr                                                                CA\n",
       "LocationDesc                                                        California\n",
       "Datasource                          Behavioral Risk Factor Surveillance System\n",
       "Class                                                    Fruits and Vegetables\n",
       "Topic                                         Fruits and Vegetables - Behavior\n",
       "Question                     Percent of adults who report consuming vegetab...\n",
       "Data_Value                                                                43.1\n",
       "Low_Confidence_Limit                                                      39.2\n",
       "High_Confidence_Limit                                                     47.0\n",
       "Sample_Size                                                              937.0\n",
       "GeoLocation                                     (37.638640123, -120.999999538)\n",
       "ClassID                                                                     FV\n",
       "TopicID                                                                    FV1\n",
       "QuestionID                                                                Q019\n",
       "LocationID                                                                   6\n",
       "StratificationCategory1                                              Education\n",
       "Stratification1                                          Less than high school\n",
       "StratificationCategoryId1                                                  EDU\n",
       "StratificationID1                                                        EDUHS\n",
       "Name: 31946, dtype: object"
      ]
     },
     "execution_count": 15,
     "metadata": {},
     "output_type": "execute_result"
    }
   ],
   "source": [
    "# 3. Find in which year data value is maximun\n",
    "n_df.iloc[n_df['Data_Value'].idxmax()]"
   ]
  },
  {
   "cell_type": "code",
   "execution_count": 16,
   "id": "e8fdd80c",
   "metadata": {},
   "outputs": [
    {
     "data": {
      "text/plain": [
       "YearStart                                                                 2014\n",
       "LocationAbbr                                                                KS\n",
       "LocationDesc                                                            Kansas\n",
       "Datasource                          Behavioral Risk Factor Surveillance System\n",
       "Class                                                  Obesity / Weight Status\n",
       "Topic                                                  Obesity / Weight Status\n",
       "Question                     Percent of adults aged 18 years and older who ...\n",
       "Data_Value                                                                33.9\n",
       "Low_Confidence_Limit                                                      27.1\n",
       "High_Confidence_Limit                                                     41.4\n",
       "Sample_Size                                                              222.0\n",
       "GeoLocation                                        (38.3477403, -98.200781227)\n",
       "ClassID                                                                    OWS\n",
       "TopicID                                                                   OWS1\n",
       "QuestionID                                                                Q036\n",
       "LocationID                                                                  20\n",
       "StratificationCategory1                                         Race/Ethnicity\n",
       "Stratification1                                                2 or more races\n",
       "StratificationCategoryId1                                                 RACE\n",
       "StratificationID1                                                    RACE2PLUS\n",
       "Name: 23699, dtype: object"
      ]
     },
     "execution_count": 16,
     "metadata": {},
     "output_type": "execute_result"
    }
   ],
   "source": [
    "# 4. Find in which year data value is minimun\n",
    "n_df.iloc[n_df['Data_Value'].idxmin()]"
   ]
  },
  {
   "cell_type": "code",
   "execution_count": 17,
   "id": "77f2847f",
   "metadata": {},
   "outputs": [
    {
     "data": {
      "text/plain": [
       "array([14956], dtype=int64)"
      ]
     },
     "execution_count": 17,
     "metadata": {},
     "output_type": "execute_result"
    }
   ],
   "source": [
    "# 5. Find no of adults aged 18 years and older who have obesity'\n",
    "n_df[n_df['Question']== 'Percent of adults aged 18 years and older who have obesity'].count().values[0:1]"
   ]
  },
  {
   "cell_type": "code",
   "execution_count": 18,
   "id": "183023a2",
   "metadata": {},
   "outputs": [
    {
     "data": {
      "text/plain": [
       "array([14984], dtype=int64)"
      ]
     },
     "execution_count": 18,
     "metadata": {},
     "output_type": "execute_result"
    }
   ],
   "source": [
    "# 6. Find no of adults who engage in no leisure-time physical activity\n",
    "n_df[n_df['Question']== 'Percent of adults who engage in no leisure-time physical activity'].count().values[0:1]"
   ]
  },
  {
   "cell_type": "code",
   "execution_count": 19,
   "id": "6635895d",
   "metadata": {},
   "outputs": [
    {
     "data": {
      "text/plain": [
       "array([14956], dtype=int64)"
      ]
     },
     "execution_count": 19,
     "metadata": {},
     "output_type": "execute_result"
    }
   ],
   "source": [
    "# 7. Find no of adults aged 18 years and older who have an overweight classification\n",
    "n_df[n_df['Question']== 'Percent of adults aged 18 years and older who have an overweight classification'].count().values[0:1]"
   ]
  },
  {
   "cell_type": "code",
   "execution_count": 20,
   "id": "1f203050",
   "metadata": {},
   "outputs": [
    {
     "data": {
      "text/plain": [
       "[('Percent of adults who engage in no leisure-time physical activity', 'Q047')]"
      ]
     },
     "execution_count": 20,
     "metadata": {},
     "output_type": "execute_result"
    }
   ],
   "source": [
    "# 8. Which question and question id mostly occur/asked\n",
    "list(n_df[['Question', 'QuestionID']].value_counts()[0:1].keys())"
   ]
  },
  {
   "cell_type": "code",
   "execution_count": 21,
   "id": "4b66d09b",
   "metadata": {},
   "outputs": [
    {
     "data": {
      "text/plain": [
       "Percent of adults who engage in no leisure-time physical activity                                                                                                                                                                                        14984\n",
       "Percent of adults aged 18 years and older who have obesity                                                                                                                                                                                               14956\n",
       "Percent of adults aged 18 years and older who have an overweight classification                                                                                                                                                                          14956\n",
       "Percent of adults who engage in muscle-strengthening activities on 2 or more days a week                                                                                                                                                                  6712\n",
       "Percent of adults who achieve at least 150 minutes a week of moderate-intensity aerobic physical activity or 75 minutes a week of vigorous-intensity aerobic activity (or an equivalent combination)                                                      6700\n",
       "Percent of adults who achieve at least 300 minutes a week of moderate-intensity aerobic physical activity or 150 minutes a week of vigorous-intensity aerobic activity (or an equivalent combination)                                                     6696\n",
       "Percent of adults who achieve at least 150 minutes a week of moderate-intensity aerobic physical activity or 75 minutes a week of vigorous-intensity aerobic physical activity and engage in muscle-strengthening activities on 2 or more days a week     6692\n",
       "Percent of adults who report consuming fruit less than one time daily                                                                                                                                                                                     4080\n",
       "Percent of adults who report consuming vegetables less than one time daily                                                                                                                                                                                4075\n",
       "Name: Question, dtype: int64"
      ]
     },
     "execution_count": 21,
     "metadata": {},
     "output_type": "execute_result"
    }
   ],
   "source": [
    "# 9. Counting of each question\n",
    "n_df['Question'].value_counts()"
   ]
  },
  {
   "cell_type": "code",
   "execution_count": 22,
   "id": "0a62e482",
   "metadata": {},
   "outputs": [
    {
     "data": {
      "text/plain": [
       "[('Physical Activity - Behavior', 'PA1')]"
      ]
     },
     "execution_count": 22,
     "metadata": {},
     "output_type": "execute_result"
    }
   ],
   "source": [
    "# 10. Which toipc and topicid used/occur mostly\n",
    "list(n_df[['Topic', 'TopicID']].value_counts()[0:1].keys())"
   ]
  },
  {
   "cell_type": "code",
   "execution_count": 23,
   "id": "4c0d3e48",
   "metadata": {},
   "outputs": [
    {
     "data": {
      "text/plain": [
       "[('Physical Activity', 'PA')]"
      ]
     },
     "execution_count": 23,
     "metadata": {},
     "output_type": "execute_result"
    }
   ],
   "source": [
    "# 11. Which class and classid used/occur mostly\n",
    "list(n_df[['Class', 'ClassID']].value_counts()[0:1].keys())"
   ]
  },
  {
   "cell_type": "code",
   "execution_count": 24,
   "id": "96d00615",
   "metadata": {},
   "outputs": [
    {
     "data": {
      "text/plain": [
       "<Axes: xlabel='YearStart'>"
      ]
     },
     "execution_count": 24,
     "metadata": {},
     "output_type": "execute_result"
    },
    {
     "data": {
      "image/png": "[encoded data removed]",
      "text/plain": [
       "<Figure size 640x480 with 1 Axes>"
      ]
     },
     "metadata": {},
     "output_type": "display_data"
    }
   ],
   "source": [
    "# 12. show year-wise total sample size\n",
    "n_df.groupby('YearStart')['Sample_Size'].sum().plot(kind='bar',color=[\"red\", \"yellow\", \"blue\",\"green\", \"pink\"])"
   ]
  },
  {
   "cell_type": "code",
   "execution_count": 25,
   "id": "45cb1bec",
   "metadata": {},
   "outputs": [
    {
     "data": {
      "text/plain": [
       "[('US', 59, 'National')]"
      ]
     },
     "execution_count": 25,
     "metadata": {},
     "output_type": "execute_result"
    }
   ],
   "source": [
    "# 13. Which Location, Locationid and LocationDesc used/occur mostly\n",
    "list(n_df[['LocationAbbr', 'LocationID', 'LocationDesc']].value_counts()[0:1].keys())"
   ]
  },
  {
   "cell_type": "code",
   "execution_count": 26,
   "id": "e1bf556c",
   "metadata": {},
   "outputs": [
    {
     "data": {
      "text/plain": [
       "array([47.14483973])"
      ]
     },
     "execution_count": 26,
     "metadata": {},
     "output_type": "execute_result"
    }
   ],
   "source": [
    "# 14. Find the % of class having physical activity\n",
    "n_df[n_df['Class']== 'Physical Activity'].count().values[0:1]/88629*100"
   ]
  },
  {
   "cell_type": "code",
   "execution_count": 27,
   "id": "63cd4850",
   "metadata": {},
   "outputs": [
    {
     "data": {
      "text/html": [
       "<div>\n",
       "<style scoped>\n",
       "    .dataframe tbody tr th:only-of-type {\n",
       "        vertical-align: middle;\n",
       "    }\n",
       "\n",
       "    .dataframe tbody tr th {\n",
       "        vertical-align: top;\n",
       "    }\n",
       "\n",
       "    .dataframe thead th {\n",
       "        text-align: right;\n",
       "    }\n",
       "</style>\n",
       "<table border=\"1\" class=\"dataframe\">\n",
       "  <thead>\n",
       "    <tr style=\"text-align: right;\">\n",
       "      <th></th>\n",
       "      <th>LocationAbbr</th>\n",
       "      <th>Data_Value</th>\n",
       "    </tr>\n",
       "  </thead>\n",
       "  <tbody>\n",
       "    <tr>\n",
       "      <th>28475</th>\n",
       "      <td>OR</td>\n",
       "      <td>77.6</td>\n",
       "    </tr>\n",
       "    <tr>\n",
       "      <th>61677</th>\n",
       "      <td>MT</td>\n",
       "      <td>75.3</td>\n",
       "    </tr>\n",
       "    <tr>\n",
       "      <th>69012</th>\n",
       "      <td>ID</td>\n",
       "      <td>74.6</td>\n",
       "    </tr>\n",
       "    <tr>\n",
       "      <th>47842</th>\n",
       "      <td>NM</td>\n",
       "      <td>73.8</td>\n",
       "    </tr>\n",
       "    <tr>\n",
       "      <th>51712</th>\n",
       "      <td>WY</td>\n",
       "      <td>73.3</td>\n",
       "    </tr>\n",
       "  </tbody>\n",
       "</table>\n",
       "</div>"
      ],
      "text/plain": [
       "      LocationAbbr  Data_Value\n",
       "28475           OR        77.6\n",
       "61677           MT        75.3\n",
       "69012           ID        74.6\n",
       "47842           NM        73.8\n",
       "51712           WY        73.3"
      ]
     },
     "execution_count": 27,
     "metadata": {},
     "output_type": "execute_result"
    }
   ],
   "source": [
    "# 15. Find top 5 country with highest data_value\n",
    "n_df[['LocationAbbr', 'Data_Value']].sort_values(by= 'Data_Value', ascending= False)[0:5]"
   ]
  },
  {
   "cell_type": "code",
   "execution_count": 28,
   "id": "6d626be6",
   "metadata": {},
   "outputs": [
    {
     "data": {
      "text/plain": [
       "array(['WI', 'SD', 'WI', 'CO', 'AR', 'OH', 'NE', 'MO', 'PR', 'HI'],\n",
       "      dtype=object)"
      ]
     },
     "execution_count": 28,
     "metadata": {},
     "output_type": "execute_result"
    }
   ],
   "source": [
    "# 16. Find names of top 10 country in year 2014 with high data value \n",
    "x= n_df[n_df.YearStart== 2014].sort_values(by= 'Data_Value', ascending= False).head(10)\n",
    "x\n",
    "x.iloc[:,1].values"
   ]
  },
  {
   "cell_type": "code",
   "execution_count": 29,
   "id": "b052c607",
   "metadata": {},
   "outputs": [
    {
     "data": {
      "text/plain": [
       "array(['RI', 'GA', 'DC', 'MO', 'OK', 'PA', 'SD', 'CT', 'DC', 'DC'],\n",
       "      dtype=object)"
      ]
     },
     "execution_count": 29,
     "metadata": {},
     "output_type": "execute_result"
    }
   ],
   "source": [
    "# 17. Find names of top 10 country in year 2016 with least data value \n",
    "x= n_df[n_df.YearStart== 2016].sort_values(by= 'Data_Value', ascending= True).head(10)\n",
    "x\n",
    "x.iloc[:,1].values"
   ]
  },
  {
   "cell_type": "code",
   "execution_count": 30,
   "id": "ed30a759",
   "metadata": {},
   "outputs": [
    {
     "data": {
      "text/plain": [
       "LocationAbbr                                   WY\n",
       "GeoLocation     (64.845079957001, -147.722059036)\n",
       "LocationID                                     78\n",
       "dtype: object"
      ]
     },
     "execution_count": 30,
     "metadata": {},
     "output_type": "execute_result"
    }
   ],
   "source": [
    "# 18. Find out the country name having max geolocation & geolocationID \n",
    "n_df[['LocationAbbr', 'GeoLocation', 'LocationID']].max()"
   ]
  },
  {
   "cell_type": "code",
   "execution_count": 31,
   "id": "211d1c6d",
   "metadata": {},
   "outputs": [
    {
     "name": "stdout",
     "output_type": "stream",
     "text": [
      "64.6\n",
      "65.4\n"
     ]
    }
   ],
   "source": [
    "# 19. Find maximum data value of male and female\n",
    "print(n_df[n_df.Stratification1== 'Male']['Data_Value'].max())\n",
    "print(n_df[n_df.Stratification1== 'Female']['Data_Value'].max())"
   ]
  },
  {
   "cell_type": "code",
   "execution_count": 32,
   "id": "cf920341",
   "metadata": {},
   "outputs": [
    {
     "data": {
      "text/plain": [
       "array(['Percent of adults who report consuming vegetables less than one time daily',\n",
       "       77.6, 70.2, 87.7], dtype=object)"
      ]
     },
     "execution_count": 32,
     "metadata": {},
     "output_type": "execute_result"
    }
   ],
   "source": [
    "# 20. Which question have maximum data value, Low_Confidence_Limit and High_Confidence_Limit \n",
    "n_df[['Question', 'Data_Value', 'Low_Confidence_Limit', 'High_Confidence_Limit ' ]].max().values"
   ]
  },
  {
   "cell_type": "code",
   "execution_count": 33,
   "id": "ddb2bb75",
   "metadata": {},
   "outputs": [
    {
     "data": {
      "text/plain": [
       "Percent of adults aged 18 years and older who have obesity    589\n",
       "Name: Question, dtype: int64"
      ]
     },
     "execution_count": 33,
     "metadata": {},
     "output_type": "execute_result"
    }
   ],
   "source": [
    "# 21. Which question is asked mostly by male \n",
    "n_df[n_df.Stratification1== 'Male']['Question'].value_counts()[0:1]"
   ]
  },
  {
   "cell_type": "code",
   "execution_count": 34,
   "id": "87d8c2c6",
   "metadata": {},
   "outputs": [
    {
     "data": {
      "text/plain": [
       "Percent of adults aged 18 years and older who have an overweight classification    589\n",
       "Name: Question, dtype: int64"
      ]
     },
     "execution_count": 34,
     "metadata": {},
     "output_type": "execute_result"
    }
   ],
   "source": [
    "# 22. Which question is asked mostly by female\n",
    "n_df[n_df.Stratification1== 'Female']['Question'].value_counts()[0:1]"
   ]
  },
  {
   "cell_type": "code",
   "execution_count": 35,
   "id": "f0d97b3e",
   "metadata": {},
   "outputs": [
    {
     "data": {
      "text/plain": [
       "['Physical Activity']"
      ]
     },
     "execution_count": 35,
     "metadata": {},
     "output_type": "execute_result"
    }
   ],
   "source": [
    "# 23. Find out which class is choose mostly\n",
    "list(n_df['Class'].value_counts()[0:1].keys())"
   ]
  },
  {
   "cell_type": "code",
   "execution_count": 36,
   "id": "7c762f00",
   "metadata": {},
   "outputs": [
    {
     "data": {
      "text/plain": [
       "31.236492968153186"
      ]
     },
     "execution_count": 36,
     "metadata": {},
     "output_type": "execute_result"
    }
   ],
   "source": [
    "# 24. Find out average data value\n",
    "n_df['Data_Value'].mean()"
   ]
  },
  {
   "cell_type": "code",
   "execution_count": 37,
   "id": "5a3dbafb",
   "metadata": {},
   "outputs": [
    {
     "name": "stdout",
     "output_type": "stream",
     "text": [
      "36.13595321285895\n",
      "26.907731900664984\n"
     ]
    }
   ],
   "source": [
    "# 25. Find out average of Low_Confidence_Limit and High_Confidence_Limit\n",
    "print(n_df['High_Confidence_Limit '].mean())\n",
    "print(n_df['Low_Confidence_Limit'].mean())"
   ]
  },
  {
   "cell_type": "code",
   "execution_count": 38,
   "id": "44e0a146",
   "metadata": {},
   "outputs": [
    {
     "data": {
      "text/plain": [
       "GeoLocation                               LocationAbbr\n",
       "(13.444304, 144.793731)                   GU              1050\n",
       "                                          US                50\n",
       "(18.220833, -66.590149)                   PR               924\n",
       "                                          US                54\n",
       "(18.335765, -64.896335)                   VI               184\n",
       "                                                          ... \n",
       "(47.52227862900048, -120.47001078999972)  US                12\n",
       "(64.84507995700051, -147.72205903599973)  AK               502\n",
       "                                          US                 9\n",
       "(64.845079957001, -147.722059036)         AK               982\n",
       "                                          US                 8\n",
       "Name: LocationAbbr, Length: 210, dtype: int64"
      ]
     },
     "execution_count": 38,
     "metadata": {},
     "output_type": "execute_result"
    }
   ],
   "source": [
    "# 26. Country-Wise Geolocation\n",
    "n_df.groupby('GeoLocation')['LocationAbbr'].value_counts()"
   ]
  },
  {
   "cell_type": "code",
   "execution_count": 41,
   "id": "5dc8cd36",
   "metadata": {},
   "outputs": [
    {
     "data": {
      "text/plain": [
       "0        National\n",
       "4        National\n",
       "5            Guam\n",
       "8     Puerto Rico\n",
       "10           Guam\n",
       "Name: LocationDesc, dtype: object"
      ]
     },
     "execution_count": 41,
     "metadata": {},
     "output_type": "execute_result"
    }
   ],
   "source": [
    "# 27. Five country with class 'Physical Activity'\n",
    "x= n_df[n_df['Class']== 'Physical Activity'][0:5]\n",
    "x.iloc[:,2]"
   ]
  },
  {
   "cell_type": "code",
   "execution_count": 42,
   "id": "166954c7",
   "metadata": {},
   "outputs": [
    {
     "data": {
      "text/plain": [
       "array([6712], dtype=int64)"
      ]
     },
     "execution_count": 42,
     "metadata": {},
     "output_type": "execute_result"
    }
   ],
   "source": [
    "# 28. Percent of adults who engage in muscle-strengthening activities on 2 or more days a week.\n",
    "n_df[n_df['Question']== 'Percent of adults who engage in muscle-strengthening activities on 2 or more days a week'].count().values[0:1]"
   ]
  },
  {
   "cell_type": "code",
   "execution_count": 43,
   "id": "946c1c7c",
   "metadata": {},
   "outputs": [
    {
     "data": {
      "text/plain": [
       "array([0], dtype=int64)"
      ]
     },
     "execution_count": 43,
     "metadata": {},
     "output_type": "execute_result"
    }
   ],
   "source": [
    "# 29. Percent of adults who report consuming vegetables/fruit less than one time daily\n",
    "n_df[n_df['Question']== 'Percent of adults who report consuming vegetables/fruit less than one time daily'].count().values[0:1]"
   ]
  },
  {
   "cell_type": "code",
   "execution_count": 44,
   "id": "1f36ba9f",
   "metadata": {},
   "outputs": [
    {
     "name": "stdout",
     "output_type": "stream",
     "text": [
      "79851\n",
      "79851\n"
     ]
    }
   ],
   "source": [
    "# 30. find no of Low_Confidence_Limit/High_confidence_Limit.\n",
    "x= n_df['Low_Confidence_Limit'].count()\n",
    "print(x)\n",
    "y= n_df['High_Confidence_Limit '].count()\n",
    "print(y)"
   ]
  },
  {
   "cell_type": "code",
   "execution_count": 45,
   "id": "b6c2edae",
   "metadata": {},
   "outputs": [
    {
     "data": {
      "text/plain": [
       "array(['RACE', 'EDU', 'INC', 'AGEYR', 'GEN', 'OVR'], dtype=object)"
      ]
     },
     "execution_count": 45,
     "metadata": {},
     "output_type": "execute_result"
    }
   ],
   "source": [
    "# 31. What are the unique stratification categories used?\n",
    "n_df['StratificationCategoryId1'].unique()"
   ]
  },
  {
   "cell_type": "code",
   "execution_count": 46,
   "id": "f96642f4",
   "metadata": {},
   "outputs": [
    {
     "data": {
      "text/plain": [
       "2012"
      ]
     },
     "execution_count": 46,
     "metadata": {},
     "output_type": "execute_result"
    }
   ],
   "source": [
    "# 32.Which year had fewer customers?\n",
    "n_df['YearStart'].value_counts().idxmin()"
   ]
  },
  {
   "cell_type": "code",
   "execution_count": 47,
   "id": "1679a49d",
   "metadata": {},
   "outputs": [
    {
     "data": {
      "text/plain": [
       "'National'"
      ]
     },
     "execution_count": 47,
     "metadata": {},
     "output_type": "execute_result"
    }
   ],
   "source": [
    "# 33. From which country are the patients, on average?\n",
    "n_df.groupby('LocationDesc')['Sample_Size'].mean().idxmax()"
   ]
  },
  {
   "cell_type": "code",
   "execution_count": 48,
   "id": "7c3e71ae",
   "metadata": {},
   "outputs": [
    {
     "name": "stdout",
     "output_type": "stream",
     "text": [
      "[0]\n"
     ]
    }
   ],
   "source": [
    "# 34. What is the percentage of high vegetable consume and less fruit.\n",
    "print(n_df[n_df['Question']== 'Percent of high vegetable consume and less fruit'].count().values[0:1])"
   ]
  },
  {
   "cell_type": "code",
   "execution_count": 49,
   "id": "6a773198",
   "metadata": {},
   "outputs": [
    {
     "data": {
      "text/plain": [
       "<seaborn.axisgrid.FacetGrid at 0x1b682482800>"
      ]
     },
     "execution_count": 49,
     "metadata": {},
     "output_type": "execute_result"
    },
    {
     "data": {
      "image/png": "[encoded data removed]",
      "text/plain": [
       "<Figure size 500x500 with 1 Axes>"
      ]
     },
     "metadata": {},
     "output_type": "display_data"
    }
   ],
   "source": [
    "# 35. Variation of data value\n",
    "sns.displot(x='Data_Value',data= n_df, rug=True, kde=True, color= 'r')"
   ]
  },
  {
   "cell_type": "code",
   "execution_count": 50,
   "id": "902d9568",
   "metadata": {},
   "outputs": [
    {
     "data": {
      "text/plain": [
       "<Axes: xlabel='Data_Value', ylabel='YearStart'>"
      ]
     },
     "execution_count": 50,
     "metadata": {},
     "output_type": "execute_result"
    },
    {
     "data": {
      "image/png": "[encoded data removed]",
      "text/plain": [
       "<Figure size 640x480 with 1 Axes>"
      ]
     },
     "metadata": {},
     "output_type": "display_data"
    }
   ],
   "source": [
    "# 36. Year_wise variation in data value\n",
    "sns.lineplot(x='Data_Value',y='YearStart',data= n_df,color='y')"
   ]
  }
 ],
 "metadata": {
  "kernelspec": {
   "display_name": "Python 3 (ipykernel)",
   "language": "python",
   "name": "python3"
  },
  "language_info": {
   "codemirror_mode": {
    "name": "ipython",
    "version": 3
   },
   "file_extension": ".py",
   "mimetype": "text/x-python",
   "name": "python",
   "nbconvert_exporter": "python",
   "pygments_lexer": "ipython3",
   "version": "3.10.9"
  }
 },
 "nbformat": 4,
 "nbformat_minor": 5
}
